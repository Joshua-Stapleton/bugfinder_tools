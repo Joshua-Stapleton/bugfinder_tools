{
 "cells": [
  {
   "cell_type": "code",
   "execution_count": 1,
   "metadata": {},
   "outputs": [
    {
     "ename": "BadCredentialsException",
     "evalue": "401 {\"message\": \"Bad credentials\", \"documentation_url\": \"https://docs.github.com/rest\"}",
     "output_type": "error",
     "traceback": [
      "\u001b[0;31m---------------------------------------------------------------------------\u001b[0m",
      "\u001b[0;31mBadCredentialsException\u001b[0m                   Traceback (most recent call last)",
      "Cell \u001b[0;32mIn[1], line 33\u001b[0m\n\u001b[1;32m     30\u001b[0m             \u001b[39mprint\u001b[39m(\u001b[39mf\u001b[39m\u001b[39m'\u001b[39m\u001b[39m  - Error scanning \u001b[39m\u001b[39m{\u001b[39;00mrepo\u001b[39m.\u001b[39mname\u001b[39m}\u001b[39;00m\u001b[39m: \u001b[39m\u001b[39m{\u001b[39;00me\u001b[39m}\u001b[39;00m\u001b[39m'\u001b[39m)\n\u001b[1;32m     32\u001b[0m \u001b[39mif\u001b[39;00m \u001b[39m__name__\u001b[39m \u001b[39m==\u001b[39m \u001b[39m'\u001b[39m\u001b[39m__main__\u001b[39m\u001b[39m'\u001b[39m:\n\u001b[0;32m---> 33\u001b[0m     main()\n",
      "Cell \u001b[0;32mIn[1], line 15\u001b[0m, in \u001b[0;36mmain\u001b[0;34m()\u001b[0m\n\u001b[1;32m     12\u001b[0m g \u001b[39m=\u001b[39m Github(github_token)\n\u001b[1;32m     13\u001b[0m user \u001b[39m=\u001b[39m g\u001b[39m.\u001b[39mget_user()\n\u001b[0;32m---> 15\u001b[0m \u001b[39mfor\u001b[39;00m repo \u001b[39min\u001b[39;00m user\u001b[39m.\u001b[39mget_repos():\n\u001b[1;32m     16\u001b[0m     \u001b[39mprint\u001b[39m(\u001b[39mf\u001b[39m\u001b[39m'\u001b[39m\u001b[39mScanning repository: \u001b[39m\u001b[39m{\u001b[39;00mrepo\u001b[39m.\u001b[39mname\u001b[39m}\u001b[39;00m\u001b[39m'\u001b[39m)\n\u001b[1;32m     18\u001b[0m     \u001b[39mtry\u001b[39;00m:\n",
      "File \u001b[0;32m~/Desktop/bugfinder_tools/bugfinder_tools/venv/lib/python3.9/site-packages/github/PaginatedList.py:56\u001b[0m, in \u001b[0;36mPaginatedListBase.__iter__\u001b[0;34m(self)\u001b[0m\n\u001b[1;32m     54\u001b[0m \u001b[39myield from\u001b[39;00m \u001b[39mself\u001b[39m\u001b[39m.\u001b[39m__elements\n\u001b[1;32m     55\u001b[0m \u001b[39mwhile\u001b[39;00m \u001b[39mself\u001b[39m\u001b[39m.\u001b[39m_couldGrow():\n\u001b[0;32m---> 56\u001b[0m     newElements \u001b[39m=\u001b[39m \u001b[39mself\u001b[39;49m\u001b[39m.\u001b[39;49m_grow()\n\u001b[1;32m     57\u001b[0m     \u001b[39myield from\u001b[39;00m newElements\n",
      "File \u001b[0;32m~/Desktop/bugfinder_tools/bugfinder_tools/venv/lib/python3.9/site-packages/github/PaginatedList.py:67\u001b[0m, in \u001b[0;36mPaginatedListBase._grow\u001b[0;34m(self)\u001b[0m\n\u001b[1;32m     66\u001b[0m \u001b[39mdef\u001b[39;00m \u001b[39m_grow\u001b[39m(\u001b[39mself\u001b[39m):\n\u001b[0;32m---> 67\u001b[0m     newElements \u001b[39m=\u001b[39m \u001b[39mself\u001b[39;49m\u001b[39m.\u001b[39;49m_fetchNextPage()\n\u001b[1;32m     68\u001b[0m     \u001b[39mself\u001b[39m\u001b[39m.\u001b[39m__elements \u001b[39m+\u001b[39m\u001b[39m=\u001b[39m newElements\n\u001b[1;32m     69\u001b[0m     \u001b[39mreturn\u001b[39;00m newElements\n",
      "File \u001b[0;32m~/Desktop/bugfinder_tools/bugfinder_tools/venv/lib/python3.9/site-packages/github/PaginatedList.py:201\u001b[0m, in \u001b[0;36mPaginatedList._fetchNextPage\u001b[0;34m(self)\u001b[0m\n\u001b[1;32m    200\u001b[0m \u001b[39mdef\u001b[39;00m \u001b[39m_fetchNextPage\u001b[39m(\u001b[39mself\u001b[39m):\n\u001b[0;32m--> 201\u001b[0m     headers, data \u001b[39m=\u001b[39m \u001b[39mself\u001b[39;49m\u001b[39m.\u001b[39;49m__requester\u001b[39m.\u001b[39;49mrequestJsonAndCheck(\n\u001b[1;32m    202\u001b[0m         \u001b[39m\"\u001b[39;49m\u001b[39mGET\u001b[39;49m\u001b[39m\"\u001b[39;49m, \u001b[39mself\u001b[39;49m\u001b[39m.\u001b[39;49m__nextUrl, parameters\u001b[39m=\u001b[39;49m\u001b[39mself\u001b[39;49m\u001b[39m.\u001b[39;49m__nextParams, headers\u001b[39m=\u001b[39;49m\u001b[39mself\u001b[39;49m\u001b[39m.\u001b[39;49m__headers\n\u001b[1;32m    203\u001b[0m     )\n\u001b[1;32m    204\u001b[0m     data \u001b[39m=\u001b[39m data \u001b[39mif\u001b[39;00m data \u001b[39melse\u001b[39;00m []\n\u001b[1;32m    206\u001b[0m     \u001b[39mself\u001b[39m\u001b[39m.\u001b[39m__nextUrl \u001b[39m=\u001b[39m \u001b[39mNone\u001b[39;00m\n",
      "File \u001b[0;32m~/Desktop/bugfinder_tools/bugfinder_tools/venv/lib/python3.9/site-packages/github/Requester.py:398\u001b[0m, in \u001b[0;36mRequester.requestJsonAndCheck\u001b[0;34m(self, verb, url, parameters, headers, input)\u001b[0m\n\u001b[1;32m    397\u001b[0m \u001b[39mdef\u001b[39;00m \u001b[39mrequestJsonAndCheck\u001b[39m(\u001b[39mself\u001b[39m, verb, url, parameters\u001b[39m=\u001b[39m\u001b[39mNone\u001b[39;00m, headers\u001b[39m=\u001b[39m\u001b[39mNone\u001b[39;00m, \u001b[39minput\u001b[39m\u001b[39m=\u001b[39m\u001b[39mNone\u001b[39;00m):\n\u001b[0;32m--> 398\u001b[0m     \u001b[39mreturn\u001b[39;00m \u001b[39mself\u001b[39;49m\u001b[39m.\u001b[39;49m__check(\n\u001b[1;32m    399\u001b[0m         \u001b[39m*\u001b[39;49m\u001b[39mself\u001b[39;49m\u001b[39m.\u001b[39;49mrequestJson(\n\u001b[1;32m    400\u001b[0m             verb, url, parameters, headers, \u001b[39minput\u001b[39;49m, \u001b[39mself\u001b[39;49m\u001b[39m.\u001b[39;49m__customConnection(url)\n\u001b[1;32m    401\u001b[0m         )\n\u001b[1;32m    402\u001b[0m     )\n",
      "File \u001b[0;32m~/Desktop/bugfinder_tools/bugfinder_tools/venv/lib/python3.9/site-packages/github/Requester.py:423\u001b[0m, in \u001b[0;36mRequester.__check\u001b[0;34m(self, status, responseHeaders, output)\u001b[0m\n\u001b[1;32m    421\u001b[0m output \u001b[39m=\u001b[39m \u001b[39mself\u001b[39m\u001b[39m.\u001b[39m__structuredFromJson(output)\n\u001b[1;32m    422\u001b[0m \u001b[39mif\u001b[39;00m status \u001b[39m>\u001b[39m\u001b[39m=\u001b[39m \u001b[39m400\u001b[39m:\n\u001b[0;32m--> 423\u001b[0m     \u001b[39mraise\u001b[39;00m \u001b[39mself\u001b[39m\u001b[39m.\u001b[39m__createException(status, responseHeaders, output)\n\u001b[1;32m    424\u001b[0m \u001b[39mreturn\u001b[39;00m responseHeaders, output\n",
      "\u001b[0;31mBadCredentialsException\u001b[0m: 401 {\"message\": \"Bad credentials\", \"documentation_url\": \"https://docs.github.com/rest\"}"
     ]
    }
   ],
   "source": [
    "import re\n",
    "import base64\n",
    "from github import Github\n",
    "\n",
    "def scan_for_api_keys(content):\n",
    "    # Example pattern for API keys, adjust this regex pattern as needed\n",
    "    api_key_pattern = re.compile(r'[A-Za-z0-9]{32,}')\n",
    "    return re.findall(api_key_pattern, content)\n",
    "\n",
    "def main():\n",
    "    github_token = ''\n",
    "    g = Github(github_token)\n",
    "    user = g.get_user()\n",
    "\n",
    "    for repo in user.get_repos():\n",
    "        print(f'Scanning repository: {repo.name}')\n",
    "\n",
    "        try:\n",
    "            for file in repo.get_contents(''):\n",
    "                if file.type == 'file':\n",
    "                    content = base64.b64decode(file.content).decode('utf-8')\n",
    "                    keys = scan_for_api_keys(content)\n",
    "\n",
    "                    if keys:\n",
    "                        print(f'  - Found potential API keys in {file.name}: {keys}')\n",
    "                else:\n",
    "                    print(f'  - Skipping {file.name} (not a file)')\n",
    "\n",
    "        except Exception as e:\n",
    "            print(f'  - Error scanning {repo.name}: {e}')\n",
    "\n",
    "if __name__ == '__main__':\n",
    "    main()"
   ]
  },
  {
   "cell_type": "code",
   "execution_count": 3,
   "metadata": {},
   "outputs": [
    {
     "name": "stdout",
     "output_type": "stream",
     "text": [
      "Scanning repository: bugfinder_tools\n",
      "Scanning repository: diem_cvs\n",
      "  - Skipping tools (not a file)\n",
      "Scanning repository: tax_optimisation\n",
      "  - Skipping functions (not a file)\n"
     ]
    }
   ],
   "source": [
    "import re\n",
    "import base64\n",
    "import requests\n",
    "\n",
    "def scan_for_api_keys(content):\n",
    "    # Example pattern for API keys, adjust this regex pattern as needed\n",
    "    api_key_pattern = re.compile(r'[A-Za-z0-9]{32,}')\n",
    "    return re.findall(api_key_pattern, content)\n",
    "\n",
    "def main():\n",
    "    github_username = 'Joshua-Stapleton'\n",
    "    repos_url = f'https://api.github.com/users/{github_username}/repos'\n",
    "\n",
    "    response = requests.get(repos_url)\n",
    "\n",
    "    if response.status_code == 200:\n",
    "        repositories = response.json()\n",
    "\n",
    "        for repo in repositories:\n",
    "            print(f'Scanning repository: {repo[\"name\"]}')\n",
    "\n",
    "            try:\n",
    "                contents_url = repo[\"contents_url\"].replace('{+path}', '')\n",
    "                contents_response = requests.get(contents_url)\n",
    "\n",
    "                if contents_response.status_code == 200:\n",
    "                    files = contents_response.json()\n",
    "\n",
    "                    for file in files:\n",
    "                        if file[\"type\"] == \"file\":\n",
    "                            file_response = requests.get(file[\"download_url\"])\n",
    "\n",
    "                            if file_response.status_code == 200:\n",
    "                                content = file_response.text\n",
    "                                keys = scan_for_api_keys(content)\n",
    "\n",
    "                                if keys:\n",
    "                                    print(f'  - Found potential API keys in {file[\"name\"]}: {keys}')\n",
    "                        else:\n",
    "                            print(f'  - Skipping {file[\"name\"]} (not a file)')\n",
    "\n",
    "            except Exception as e:\n",
    "                print(f'  - Error scanning {repo[\"name\"]}: {e}')\n",
    "    else:\n",
    "        print('Failed to fetch repositories. Check your username and try again.')\n",
    "\n",
    "\n",
    "main()"
   ]
  }
 ],
 "metadata": {
  "kernelspec": {
   "display_name": "venv",
   "language": "python",
   "name": "python3"
  },
  "language_info": {
   "codemirror_mode": {
    "name": "ipython",
    "version": 3
   },
   "file_extension": ".py",
   "mimetype": "text/x-python",
   "name": "python",
   "nbconvert_exporter": "python",
   "pygments_lexer": "ipython3",
   "version": "3.9.6"
  },
  "orig_nbformat": 4
 },
 "nbformat": 4,
 "nbformat_minor": 2
}
